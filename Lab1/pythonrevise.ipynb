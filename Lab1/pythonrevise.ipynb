{
 "cells": [
  {
   "cell_type": "markdown",
   "metadata": {
    "id": "y0MvZ2SdrnzQ"
   },
   "source": [
    "### **WAP to check if an input number is odd or even**"
   ]
  },
  {
   "cell_type": "code",
   "execution_count": null,
   "metadata": {
    "colab": {
     "base_uri": "https://localhost:8080/"
    },
    "id": "jzOunIzUrspv",
    "jupyter": {
     "is_executing": true
    },
    "outputId": "761a697b-ee41-40fa-c53b-023bca07ba0c"
   },
   "outputs": [],
   "source": [
    "num = input(\"Enter a number: \")\n",
    "if num % 2 == 0:\n",
    "   print(\"The number is even\")\n",
    "else:\n",
    "  print(\"The number is odd\")"
   ]
  },
  {
   "cell_type": "markdown",
   "metadata": {
    "id": "fFBI-rr5r_Y-"
   },
   "source": [
    "### **WAP to input the percentage and display the division**"
   ]
  },
  {
   "cell_type": "code",
   "execution_count": null,
   "metadata": {
    "colab": {
     "base_uri": "https://localhost:8080/"
    },
    "id": "Mw70uVL5sMSk",
    "jupyter": {
     "is_executing": true
    },
    "outputId": "105e7c41-9612-48a6-9f29-b06e392e4e0b"
   },
   "outputs": [],
   "source": [
    "number = input(\"Enter your percentage : \")\n",
    "percentage = int(number)\n",
    "if percentage >= 80:\n",
    "  print(\"Distinction\")\n",
    "elif percentage >= 65:\n",
    "  print(\"First Division\")\n",
    "elif percentage >= 55:\n",
    "  print(\"Second Division\")\n",
    "elif percentage >= 40:\n",
    "  print(\"Third Division\")\n",
    "else:\n",
    "  print(\"Fail\")"
   ]
  },
  {
   "cell_type": "markdown",
   "metadata": {
    "id": "cGCKPGhUt39K"
   },
   "source": [
    "### **WAP to calculate sum, diff, product and quotient between two input numbers using a single function.**"
   ]
  },
  {
   "cell_type": "code",
   "execution_count": null,
   "metadata": {
    "colab": {
     "base_uri": "https://localhost:8080/"
    },
    "id": "wYZrOdkJt3ew",
    "jupyter": {
     "is_executing": true
    },
    "outputId": "deb30c5c-b29e-4b95-e0a1-e3f74fa3d8ca"
   },
   "outputs": [],
   "source": [
    "def calculate(num1, num2):\n",
    "  sum = num1 + num2\n",
    "  difference = num1 - num2\n",
    "  product = num1 * num2\n",
    "\n",
    "\n",
    "  return sum, difference, product\n",
    "\n",
    "num1 = int(input(\"Enter first number: \"))\n",
    "num2 = int(input(\"Enter second number: \"))\n",
    "\n",
    "\n",
    "sum, difference, product = calculate(num1, num2)\n",
    "\n",
    "print(\"Sum: \", sum)\n",
    "print(\"Difference: \", difference)\n",
    "print(\"Product: \", product)"
   ]
  },
  {
   "cell_type": "markdown",
   "metadata": {
    "id": "p3oWsudPuixM"
   },
   "source": [
    "### **WAP to display prime numbers from 1 to 100**"
   ]
  },
  {
   "cell_type": "code",
   "execution_count": null,
   "metadata": {
    "colab": {
     "base_uri": "https://localhost:8080/"
    },
    "id": "T6OijutUs40L",
    "jupyter": {
     "is_executing": true
    },
    "outputId": "45b13299-e73b-4e9b-b846-cfe64f8c1cfe"
   },
   "outputs": [],
   "source": [
    "from math import sqrt, ceil\n",
    "\n",
    "def PrintPrime(num1, num2):\n",
    "  for num in range(num1, num2+1):\n",
    "    if num > 1:\n",
    "      for i in range(2, ceil(sqrt(num)) + 1):\n",
    "        if (num % i) == 0:\n",
    "          break\n",
    "        else:\n",
    "           print(num)\n",
    "\n",
    "num1 = int(input(\"Enter the first number: \"))\n",
    "num2 = int(input(\"Enter the second number: \"))\n",
    "\n",
    "print(\"Prime numbers between\", num1, \"and\", num2, \"are:\")\n",
    "PrintPrime(num1, num2)\n"
   ]
  },
  {
   "cell_type": "markdown",
   "metadata": {
    "id": "seQbF2LCvIOB"
   },
   "source": [
    "### **WAP to calculate the factorial of an input number.**"
   ]
  },
  {
   "cell_type": "code",
   "execution_count": null,
   "metadata": {
    "colab": {
     "base_uri": "https://localhost:8080/"
    },
    "id": "H_Eh01RSvFgV",
    "jupyter": {
     "is_executing": true
    },
    "outputId": "878dc3f9-3182-4011-da22-a2a286061615"
   },
   "outputs": [],
   "source": [
    "def factorial(n):\n",
    "    if n<0 :\n",
    "        return \"Factorial doesn't exist for negative numbers\"\n",
    "    elif n == 0 or n == 1:\n",
    "        return 1\n",
    "    else :\n",
    "        result = 1\n",
    "        for i in range(2, n+1):\n",
    "            result*=i\n",
    "        return result\n",
    "\n",
    "number = int(input(\"Enter your number: \"))\n",
    "print(f\" The factorial of the {number} is {factorial(number)}\")"
   ]
  },
  {
   "cell_type": "markdown",
   "metadata": {
    "id": "f-iowpbovSqx"
   },
   "source": [
    "### **WAP to enter the marks of 10 students and display it.**"
   ]
  },
  {
   "cell_type": "code",
   "execution_count": null,
   "metadata": {
    "colab": {
     "base_uri": "https://localhost:8080/"
    },
    "id": "qKAWp4oVu9vU",
    "jupyter": {
     "is_executing": true
    },
    "outputId": "bc3e6577-eba9-411c-e624-0ed12be2bd01"
   },
   "outputs": [],
   "source": [
    "def display_marks():\n",
    "    marks = []\n",
    "    for i in range(10):\n",
    "        mark = int(input(f\"Enter marks for student {i+1}: \"))\n",
    "        marks.append(mark)\n",
    "    print(\" Marks of Students: \")\n",
    "    for i in range(10):\n",
    "        print(f\"Student {i+1}: {marks[i]}\")\n",
    "\n",
    "display_marks()"
   ]
  },
  {
   "cell_type": "markdown",
   "metadata": {
    "id": "HiOjUDqrwh8Y"
   },
   "source": [
    "### **WAP to ask for a sentence and count the number of words.**"
   ]
  },
  {
   "cell_type": "code",
   "execution_count": null,
   "metadata": {
    "colab": {
     "base_uri": "https://localhost:8080/"
    },
    "id": "WvnP4X7fwFdl",
    "jupyter": {
     "is_executing": true
    },
    "outputId": "dffc588c-aa3e-4a70-b375-ca5e6a6a0d40"
   },
   "outputs": [],
   "source": [
    "sentence = input(\"Enter your sentence: \")\n",
    "wordCount = len(sentence.split())\n",
    "print(f\"Word count for your sentence is {wordCount}\")"
   ]
  },
  {
   "cell_type": "markdown",
   "metadata": {
    "id": "UT_LW_66xK3X"
   },
   "source": [
    "### **WAP to sort the list {5, 4, 11, 13, 51}**"
   ]
  },
  {
   "cell_type": "code",
   "execution_count": null,
   "metadata": {
    "colab": {
     "base_uri": "https://localhost:8080/"
    },
    "id": "qejtA7FCxEw9",
    "jupyter": {
     "is_executing": true
    },
    "outputId": "507b10a3-9970-47f1-d32c-8f26c5502637"
   },
   "outputs": [],
   "source": [
    "numbers = [5, 4, 11, 13, 51]\n",
    "numbers.sort()\n",
    "print(numbers)"
   ]
  },
  {
   "cell_type": "markdown",
   "metadata": {
    "id": "sPlw7upfxUPX"
   },
   "source": [
    "### **WAP program to sum all the items in a list.**"
   ]
  },
  {
   "cell_type": "code",
   "execution_count": null,
   "metadata": {
    "colab": {
     "base_uri": "https://localhost:8080/"
    },
    "id": "5XOVUM4XxSTg",
    "outputId": "5b135503-37d7-40f1-b8dd-6bf6dea2a1eb"
   },
   "outputs": [],
   "source": [
    "numbers = [5,4,3,2,1]\n",
    "sum = 0\n",
    "for i in numbers:\n",
    "  sum+=i\n",
    "print(sum)"
   ]
  },
  {
   "cell_type": "markdown",
   "metadata": {
    "id": "6YBRmpq1yhUO"
   },
   "source": [
    "### **WAP program to get the largest number from a list.**"
   ]
  },
  {
   "cell_type": "code",
   "execution_count": null,
   "metadata": {
    "colab": {
     "base_uri": "https://localhost:8080/"
    },
    "id": "ZSnwGc2axyLz",
    "outputId": "fe427242-e8e4-4f27-fb7d-74c639c5e7da"
   },
   "outputs": [],
   "source": [
    "numbers = [5,4,3,2,1,45]\n",
    "largest = numbers[0]\n",
    "for i in numbers:\n",
    "  if i > largest:\n",
    "    largest =i\n",
    "print(largest)"
   ]
  },
  {
   "cell_type": "markdown",
   "metadata": {
    "id": "nSfsZXz_zf32"
   },
   "source": [
    "### **WAP to ask for a sentence and calculate the frequency of characters in the sentences.**"
   ]
  },
  {
   "cell_type": "code",
   "execution_count": null,
   "metadata": {
    "colab": {
     "base_uri": "https://localhost:8080/"
    },
    "id": "8BJ0w2jgy-pl",
    "outputId": "2f53fe41-c684-4c0f-9e86-55c12b337b1e"
   },
   "outputs": [],
   "source": [
    "def CalulateFrequecy():\n",
    "  sentence = input(\"Your Sentence:\")\n",
    "  frequency = {}\n",
    "  for char in sentence:\n",
    "    frequency[char] = frequency.get(char, 0) + 1\n",
    "\n",
    "  print(\"\\nCharacter frequencies:\")\n",
    "  for char, count in frequency.items():\n",
    "    print(f\"'{char}': {count}\")\n",
    "\n",
    "CalulateFrequecy()"
   ]
  },
  {
   "cell_type": "markdown",
   "metadata": {
    "id": "PM-KmjJ21But"
   },
   "source": [
    "### **WAP to find the sum of all items in a dictionary**\n",
    "Input: {'a': 100, 'b':200, 'c':300} \\\n",
    "Input: {'x': 25, 'y':18, 'z':45}"
   ]
  },
  {
   "cell_type": "code",
   "execution_count": null,
   "metadata": {
    "colab": {
     "base_uri": "https://localhost:8080/"
    },
    "id": "cMBZansD3azi",
    "outputId": "231a3366-9258-4cf2-94ef-2bec560282d6"
   },
   "outputs": [],
   "source": [
    "def sumofDictionary(dictionaryvar):\n",
    "  sum = 0\n",
    "  for value in dictionaryvar.values():\n",
    "      sum += value\n",
    "  return sum\n",
    "\n",
    "dict1 = {'a': 100, 'b':200, 'c':300}\n",
    "dict2 = {'x': 25, 'y':18, 'z':45}\n",
    "\n",
    "print(sumofDictionary(dict1))\n",
    "print(sumofDictionary(dict2))"
   ]
  },
  {
   "cell_type": "markdown",
   "metadata": {
    "id": "wlBtXTMm4XIi"
   },
   "source": [
    "### **WAP, if a string is given and your task is to swap cases**"
   ]
  },
  {
   "cell_type": "code",
   "execution_count": null,
   "metadata": {
    "colab": {
     "base_uri": "https://localhost:8080/"
    },
    "id": "r6rinpT932_m",
    "outputId": "7aca851c-d3a6-48cd-9ce3-16e55a380b8a"
   },
   "outputs": [],
   "source": [
    "def swapCases(inputStr):\n",
    "  return inputStr.swapcase()\n",
    "\n",
    "string1 = \"!hellOWOrld\"\n",
    "string2 = \"Data Science\"\n",
    "\n",
    "print(swapCases(string1))\n",
    "print(swapCases(string2))"
   ]
  },
  {
   "cell_type": "markdown",
   "metadata": {
    "id": "bAmC0-zY7sph"
   },
   "source": [
    "### **WAP program to create a class representing a Circle. Include methods to calculate its area and perimeter**"
   ]
  },
  {
   "cell_type": "code",
   "execution_count": null,
   "metadata": {
    "colab": {
     "base_uri": "https://localhost:8080/"
    },
    "id": "8pzu2yx15XKL",
    "outputId": "372b9f0a-2667-4915-8221-5282d18927a5"
   },
   "outputs": [],
   "source": [
    "import math\n",
    "\n",
    "class Circle:\n",
    "  def __init__(self, radius):\n",
    "    self.radius = radius\n",
    "\n",
    "  def getArea(self):\n",
    "    return math.pi * self.radius ** 2\n",
    "\n",
    "  def getPerimeter(self):\n",
    "    return 2 * math.pi * self.radius\n",
    "\n",
    "circle1 = Circle(25)\n",
    "print(f\"Area of the circle: {circle1.getArea():.2f}\")\n",
    "print(f\"Perimeter of the circle: {circle1.getPerimeter():.2f}\")"
   ]
  },
  {
   "cell_type": "markdown",
   "metadata": {
    "id": "UKH-Qgx_753c"
   },
   "source": [
    "### **Write a Python program to create a person class. Include attributes like name, country and date of birth Implement a method to determine the person's age.**"
   ]
  },
  {
   "cell_type": "code",
   "execution_count": null,
   "metadata": {
    "colab": {
     "base_uri": "https://localhost:8080/"
    },
    "id": "4Fi9J-E-7NkL",
    "outputId": "1396a6ad-7d70-44a5-de60-8156b0a43814"
   },
   "outputs": [],
   "source": [
    "from datetime import datetime\n",
    "\n",
    "class Person:\n",
    "  def __init__(self, name, country, dob):\n",
    "    self.name = name\n",
    "    self.country = country\n",
    "    self.dob = datetime.strptime(dob, \"%d-%m-%Y\")\n",
    "\n",
    "  def getAge(self):\n",
    "    today = datetime.now()\n",
    "    age = today.year - self.dob.year\n",
    "    if today.month < self.dob.month or (today.month == self.dob.month and today.day < self.dob.day):\n",
    "      age -= 1\n",
    "    return age\n",
    "\n",
    "  def __str__(self):\n",
    "        return f\"Name: {self.name}, Country: {self.country}, Age: {self.getAge()}\"\n",
    "\n",
    "RollNo_28 = Person(\"Bishwash\", \"Nepal\", '04-06-2003')\n",
    "print(RollNo_28)\n",
    "\n",
    "\n",
    "\n"
   ]
  },
  {
   "cell_type": "markdown",
   "metadata": {
    "id": "2n2bwgVR-v2T"
   },
   "source": [
    "### **Define a class Vehicle with attributes make and model, and a method drive() which prints. \"Driving the [make] [model]\". Then, create a subclass Car that inherits from Vehicle and overrides the drive() method to print \"Driving the [make] [model] car\".**"
   ]
  },
  {
   "cell_type": "code",
   "execution_count": null,
   "metadata": {
    "colab": {
     "base_uri": "https://localhost:8080/"
    },
    "id": "WorPI4Qr-TGl",
    "outputId": "ba2680f9-2a43-4d15-fe70-ee834c40ae67"
   },
   "outputs": [],
   "source": [
    "class Vehicle:\n",
    "  def __init__(self,make,model):\n",
    "    self.make = make\n",
    "    self.model = model\n",
    "\n",
    "  def drive(self):\n",
    "    print(f\"Driving the {self.make} {self.model}\")\n",
    "\n",
    "class Car(Vehicle):\n",
    "  def drive(self):\n",
    "    print(f\"Driving the {self.make} {self.model} car\")\n",
    "\n",
    "\n",
    "car1 = Vehicle(\"Toyota\", \"Corolla\")\n",
    "car1.drive()\n",
    "\n",
    "car2 = Car(\"Toyota\", \"Corolla\")\n",
    "car2.drive()"
   ]
  },
  {
   "cell_type": "markdown",
   "metadata": {
    "id": "Iga171GTCgcv"
   },
   "source": [
    "### **Create a class BankAccount with private attributes balance and account_number.**\n",
    "### **Implement methods deposit() and withdraw() to modify the balance. Ensure that the**\n",
    "### **balance cannot be accessed directly from outside the class.**"
   ]
  },
  {
   "cell_type": "code",
   "execution_count": null,
   "metadata": {
    "colab": {
     "base_uri": "https://localhost:8080/"
    },
    "id": "YZb77igyAXHJ",
    "outputId": "60b9039a-4da5-4859-f300-c0515fd4008f"
   },
   "outputs": [],
   "source": [
    "class BankAccount:\n",
    "  def __init__(self, accNumber , balance):\n",
    "    self.__balance = balance\n",
    "    self.__accNumber = accNumber\n",
    "\n",
    "  def deposit(self,amount):\n",
    "    self.__balance += amount\n",
    "\n",
    "  def withdraw(self,amount):\n",
    "    self.__balance -= amount\n",
    "\n",
    "  def getBalance(self):\n",
    "    return self.__balance\n",
    "\n",
    "\n",
    "account = BankAccount(\"57392478239\", 500)\n",
    "account.withdraw(40)\n",
    "print(f\"balance after withdrawl {account.getBalance()}\")\n",
    "account.deposit(190)\n",
    "print(f\"balance after deposit {account.getBalance()}\")\n"
   ]
  },
  {
   "cell_type": "markdown",
   "metadata": {
    "id": "zDmzIsnhESjr"
   },
   "source": [
    "### **Implement a class Shape with a method area() which returns 0.**\n",
    "### **Then, create subclasses Rectangle and Circle.**\n",
    "### **Overload the area() method in both subclasses to calculate and return**\n",
    "### **the area of a rectangle and a circle respectively.**"
   ]
  },
  {
   "cell_type": "code",
   "execution_count": null,
   "metadata": {
    "colab": {
     "base_uri": "https://localhost:8080/"
    },
    "id": "zkVuvtwrEvMP",
    "jupyter": {
     "is_executing": true
    },
    "outputId": "02667ec5-e1c8-42f6-8ed7-4a9e65936122"
   },
   "outputs": [],
   "source": [
    "import math\n",
    "\n",
    "class Shape:\n",
    "  def area(self):\n",
    "    return 0\n",
    "\n",
    "class Rectangle(Shape):\n",
    "  def __init__(self, breadth, length):\n",
    "    self.breadth = breadth\n",
    "    self.length = length\n",
    "\n",
    "  def area(self):\n",
    "    return self.breadth * self.length\n",
    "\n",
    "class Circle(Shape):\n",
    "  def __init__(self, radius):\n",
    "    self.radius = radius\n",
    "\n",
    "  def area(self):\n",
    "    return math.pi * self.radius ** 2\n",
    "\n",
    "box = Rectangle(12,4)\n",
    "ball = Circle(5)\n",
    "\n",
    "print(box.area())\n",
    "print(ball.area())"
   ]
  },
  {
   "cell_type": "markdown",
   "metadata": {},
   "source": [
    "### **A Star Algorithm**"
   ]
  },
  {
   "cell_type": "code",
   "execution_count": null,
   "metadata": {},
   "outputs": [],
   "source": [
    "from queue import PriorityQueue\n",
    "\n",
    "graph = {\n",
    "    \"Biratnagar\": {\n",
    "        \"Itahari\": 22,\n",
    "        \"Rangeli\": 25\n",
    "    },\n",
    "    \"Itahari\": {\n",
    "        \"Biratnagar\": 22,\n",
    "        \"Biratchowk\": 11,\n",
    "        \"Dharan\": 20\n",
    "    },\n",
    "    \"Biratchowk\": {\n",
    "        \"Itahari\": 11,\n",
    "        \"Kanepokhari\": 10\n",
    "    },\n",
    "    \"Kanepokhari\": {\n",
    "        \"Biratchowk\": 10,\n",
    "        \"Urlabari\": 12,\n",
    "        \"Rangeli\": 25\n",
    "    },\n",
    "    \"Urlabari\": {\n",
    "        \"Kanepokhari\": 12,\n",
    "        \"Damak\": 6\n",
    "    },\n",
    "    \"Damak\": {\n",
    "        \"Urlabari\": 6\n",
    "    },\n",
    "    \"Rangeli\": {\n",
    "        \"Biratnagar\": 25,\n",
    "        \"Kanepokhari\": 25,\n",
    "        \"Urlabari\": 40\n",
    "    },\n",
    "    \"Dharan\": {\n",
    "        \"Itahari\": 20\n",
    "    }\n",
    "}\n",
    "\n",
    "h = {\n",
    "    'Dharan': 41,\n",
    "    'Urlabari': 6,\n",
    "    'Kanepokhari': 17,\n",
    "    'Biratnagar': 46,\n",
    "    'Damak': 0,\n",
    "    'Rangeli': 28,\n",
    "    'Itahari': 39,\n",
    "    'Biratchowk': 29,\n",
    "}\n",
    "\n",
    "\n",
    "def aStar(graph, h, start, goal):\n",
    "    PQ = PriorityQueue()\n",
    "    prev = {}\n",
    "    visited = set()\n",
    "\n",
    "    # Add the start node with its f-score to the priority queue\n",
    "    PQ.put((h[start], (start, 0)))  # (priority, (node, g-score))\n",
    "    prev[start] = \" \"\n",
    "\n",
    "    while not PQ.empty():\n",
    "        outStateFScore, (outState, outStateGScore) = PQ.get()\n",
    "        visited.add(outState)\n",
    "\n",
    "        if outState == goal:\n",
    "            return True, prev, outStateFScore\n",
    "\n",
    "        for neighbour in graph[outState]:\n",
    "            if neighbour not in visited:\n",
    "                neighbourGScore = outStateGScore + graph[outState][neighbour]\n",
    "                PQ.put((neighbourGScore + h[neighbour], (neighbour, neighbourGScore)))\n",
    "                prev[neighbour] = outState\n",
    "\n",
    "    return False, prev, None\n",
    "\n",
    "\n",
    "def reconstruct_path(previous, goal):\n",
    "    path = []\n",
    "    while previous[goal] != \" \":\n",
    "        path.insert(0, goal)\n",
    "        goal = previous[goal]\n",
    "    path.insert(0, goal)\n",
    "    return \"->\".join(path)\n",
    "\n",
    "\n",
    "start = 'Biratnagar'\n",
    "goal = 'Damak'\n",
    "\n",
    "goalFound, previous, goalFScore = aStar(graph, h, start, goal)\n",
    "if goalFound:\n",
    "    print(\"Path:\", reconstruct_path(previous, goal))\n",
    "    print(\"Goal F-Score:\", goalFScore)\n",
    "else:\n",
    "    print(\"No Solution\")"
   ]
  },
  {
   "cell_type": "markdown",
   "metadata": {},
   "source": [
    "### **Depth First Search**"
   ]
  },
  {
   "cell_type": "code",
   "execution_count": null,
   "metadata": {},
   "outputs": [],
   "source": [
    "import pprint\n",
    "\n",
    "graph = {\n",
    "    \"Biratnagar\": {\n",
    "        \"Itahari\": 22,\n",
    "        \"Rangeli\": 25\n",
    "    },\n",
    "    \"Itahari\": {\n",
    "        \"Biratnagar\": 22,\n",
    "        \"Biratchowk\": 11,\n",
    "        \"Dharan\": 20\n",
    "    },\n",
    "    \"Biratchowk\": {\n",
    "        \"Itahari\": 11,\n",
    "        \"Kanepokhari\": 10\n",
    "    },\n",
    "    \"Kanepokhari\": {\n",
    "        \"Biratchowk\": 10,\n",
    "        \"Urlabari\": 12,\n",
    "        \"Rangeli\": 25\n",
    "    },\n",
    "    \"Urlabari\": {\n",
    "        \"Kanepokhari\": 12,\n",
    "        \"Damak\": 6\n",
    "    },\n",
    "    \"Damak\": {\n",
    "        \"Urlabari\": 6\n",
    "    },\n",
    "    \"Rangeli\": {\n",
    "        \"Biratnagar\": 25,\n",
    "        \"Kanepokhari\": 25,\n",
    "        \"Urlabari\": 40\n",
    "    },\n",
    "    \"Dharan\": {\n",
    "        \"Itahari\": 20\n",
    "    }\n",
    "}\n",
    "\n",
    "def DFS(graph, start, goal):\n",
    "    stack = []\n",
    "    prev = {}\n",
    "    visited = set()\n",
    "\n",
    "    stack.append(start)\n",
    "    prev[start] = \" \"\n",
    "\n",
    "    while stack:\n",
    "        poppedState = stack.pop()\n",
    "        visited.add(poppedState)\n",
    "\n",
    "        if poppedState == goal:\n",
    "            return True, prev\n",
    "\n",
    "        for neighbour in graph[poppedState]:\n",
    "            if neighbour not in stack and neighbour not in visited:\n",
    "                stack.append(neighbour)\n",
    "                prev[neighbour] = poppedState\n",
    "\n",
    "    return False, prev\n",
    "\n",
    "def reconstruct_path(previous, goal):\n",
    "    path = []\n",
    "    while previous[goal] != \" \":\n",
    "        path.insert(0, goal)\n",
    "        goal = previous[goal]\n",
    "    path.insert(0, goal)\n",
    "    return \"->\".join(path)\n",
    "\n",
    "start = 'Biratnagar'\n",
    "goal = 'Damak'\n",
    "\n",
    "goalFound, previous = DFS(graph, start, goal)\n",
    "if goalFound:\n",
    "    pprint.pprint(previous)\n",
    "    print(\"Path:\", reconstruct_path(previous, goal))\n",
    "else:\n",
    "    print(\"No Solution\")"
   ]
  }
 ],
 "metadata": {
  "colab": {
   "provenance": []
  },
  "kernelspec": {
   "display_name": "venv",
   "language": "python",
   "name": "python3"
  },
  "language_info": {
   "codemirror_mode": {
    "name": "ipython",
    "version": 3
   },
   "file_extension": ".py",
   "mimetype": "text/x-python",
   "name": "python",
   "nbconvert_exporter": "python",
   "pygments_lexer": "ipython3",
   "version": "3.12.7"
  }
 },
 "nbformat": 4,
 "nbformat_minor": 4
}
