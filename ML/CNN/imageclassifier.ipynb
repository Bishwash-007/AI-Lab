{
 "cells": [
  {
   "cell_type": "markdown",
   "metadata": {},
   "source": [
    "### **CNN to classify vehicles and animals**"
   ]
  },
  {
   "cell_type": "code",
   "execution_count": 10,
   "metadata": {},
   "outputs": [],
   "source": [
    "import numpy as np \n",
    "from PIL import Image\n",
    "\n",
    "import torch\n",
    "import torch.nn as nn\n",
    "import torch.nn.functional as F\n",
    "import torch.optim as optim\n",
    "\n",
    "import torchvision\n",
    "import torchvision.transforms as transforms\n"
   ]
  },
  {
   "cell_type": "code",
   "execution_count": 11,
   "metadata": {},
   "outputs": [],
   "source": [
    "transform = transforms.Compose([\n",
    "    transforms.ToTensor(),\n",
    "    transforms.Normalize((0.5,0.5,0.5),(0.5,0.5,0.5))\n",
    "])"
   ]
  },
  {
   "cell_type": "code",
   "execution_count": 12,
   "metadata": {},
   "outputs": [],
   "source": [
    "train_data = torchvision.datasets.CIFAR10(root='./data', train=True, download=True, transform=transform)\n",
    "test_data = torchvision.datasets.CIFAR10(root='./data', train=False, download=True, transform=transform)\n",
    "\n",
    "train_loader = torch.utils.data.DataLoader(train_data, batch_size=4, shuffle=True, num_workers=2)\n",
    "test_loader = torch.utils.data.DataLoader(test_data, batch_size=4, shuffle=False, num_workers=2)\n"
   ]
  },
  {
   "cell_type": "code",
   "execution_count": 13,
   "metadata": {},
   "outputs": [
    {
     "name": "stdout",
     "output_type": "stream",
     "text": [
      "torch.Size([3, 32, 32])\n",
      "6\n"
     ]
    }
   ],
   "source": [
    "image , label = train_data[0]\n",
    "print(image.size())\n",
    "print(label)"
   ]
  },
  {
   "cell_type": "code",
   "execution_count": 14,
   "metadata": {},
   "outputs": [],
   "source": [
    "class_names = ['plane', 'car', 'bird', 'cat', 'deer', 'dog', 'frog', 'horse', 'ship', 'truck']"
   ]
  },
  {
   "cell_type": "code",
   "execution_count": 15,
   "metadata": {},
   "outputs": [],
   "source": [
    "\n",
    "class NeuralNet(nn.Module):\n",
    "    def __init__(self):\n",
    "        super(NeuralNet, self).__init__()\n",
    "        \n",
    "        self.conv1 = nn.Conv2d(3, 12, 5)  # Input: (3, 32, 32), Output: (12, 28, 28)\n",
    "        self.pool = nn.MaxPool2d(2, 2)    # Output: (12, 14, 14)\n",
    "        self.conv2 = nn.Conv2d(12, 24, 5) # Output: (24, 10, 10), after pooling: (24, 5, 5)\n",
    "        \n",
    "        # Calculate the input size for the first fully connected layer\n",
    "        fc1_input_size = 24 * 5 * 5\n",
    "        \n",
    "        self.fc1 = nn.Linear(fc1_input_size, 120)\n",
    "        self.fc2 = nn.Linear(120, 84)\n",
    "        self.fc3 = nn.Linear(84, 10)\n",
    "        \n",
    "    def forward(self, x):\n",
    "        x = self.pool(F.relu(self.conv1(x)))  # Output: (12, 14, 14)\n",
    "        x = self.pool(F.relu(self.conv2(x)))  # Output: (24, 5, 5)\n",
    "        x = torch.flatten(x, 1)               # Flatten to (batch_size, 24*5*5)\n",
    "        x = F.relu(self.fc1(x))\n",
    "        x = F.relu(self.fc2(x))\n",
    "        x = self.fc3(x)\n",
    "        return x"
   ]
  },
  {
   "cell_type": "code",
   "execution_count": 16,
   "metadata": {},
   "outputs": [],
   "source": [
    "net = NeuralNet()\n",
    "loss_fn = nn.CrossEntropyLoss()\n",
    "optimizer = optim.SGD(net.parameters(), lr=0.001, momentum=0.9)"
   ]
  },
  {
   "cell_type": "code",
   "execution_count": 17,
   "metadata": {},
   "outputs": [
    {
     "name": "stdout",
     "output_type": "stream",
     "text": [
      "Training Epoch 1...\n",
      "[1, 2000] loss: 2.186082182586193\n",
      "[1, 4000] loss: 1.8180919324755669\n",
      "[1, 6000] loss: 1.6353896393328906\n",
      "[1, 8000] loss: 1.5320133616030216\n",
      "[1, 10000] loss: 1.4675883934050797\n",
      "[1, 12000] loss: 1.4094726651608944\n",
      "Training Epoch 2...\n",
      "[2, 2000] loss: 1.3158442847169936\n",
      "[2, 4000] loss: 1.2927929217424243\n",
      "[2, 6000] loss: 1.271819129049778\n",
      "[2, 8000] loss: 1.2505593682266771\n",
      "[2, 10000] loss: 1.2294249670505524\n",
      "[2, 12000] loss: 1.194690998679027\n",
      "Training Epoch 3...\n",
      "[3, 2000] loss: 1.1232161295991392\n",
      "[3, 4000] loss: 1.0854115597233176\n",
      "[3, 6000] loss: 1.1043611744428055\n",
      "[3, 8000] loss: 1.0968646515794098\n",
      "[3, 10000] loss: 1.0930686998665333\n",
      "[3, 12000] loss: 1.072778783368878\n",
      "Training Epoch 4...\n",
      "[4, 2000] loss: 0.9913643083069473\n",
      "[4, 4000] loss: 0.9861639241976663\n",
      "[4, 6000] loss: 1.0296389082334936\n",
      "[4, 8000] loss: 0.9926068644504994\n",
      "[4, 10000] loss: 0.9955419842321426\n",
      "[4, 12000] loss: 0.9866812988868915\n",
      "Finished Training\n"
     ]
    }
   ],
   "source": [
    "for epoch in range(4):\n",
    "    print(f'Training Epoch {epoch+1}...')\n",
    "    running_loss = 0.0\n",
    "    for i, data in enumerate(train_loader, 0):\n",
    "        inputs, labels = data\n",
    "        optimizer.zero_grad()\n",
    "        outputs = net(inputs)\n",
    "        loss = loss_fn(outputs, labels)\n",
    "        loss.backward()\n",
    "        optimizer.step()\n",
    "        \n",
    "        running_loss += loss.item()\n",
    "        if i % 2000 == 1999:\n",
    "            print(f'[{epoch+1}, {i+1}] loss: {running_loss/2000}')\n",
    "            running_loss = 0.0\n",
    "print('Finished Training')"
   ]
  },
  {
   "cell_type": "code",
   "execution_count": 18,
   "metadata": {},
   "outputs": [],
   "source": [
    "torch.save(net.state_dict(), 'trained_net.pth')"
   ]
  },
  {
   "cell_type": "code",
   "execution_count": 19,
   "metadata": {},
   "outputs": [
    {
     "data": {
      "text/plain": [
       "<All keys matched successfully>"
      ]
     },
     "execution_count": 19,
     "metadata": {},
     "output_type": "execute_result"
    }
   ],
   "source": [
    "net = NeuralNet()\n",
    "net.load_state_dict(torch.load('trained_net.pth'))"
   ]
  },
  {
   "cell_type": "code",
   "execution_count": 20,
   "metadata": {},
   "outputs": [
    {
     "name": "stdout",
     "output_type": "stream",
     "text": [
      "Accuracy: 64.7%\n"
     ]
    }
   ],
   "source": [
    "correct = 0\n",
    "total = 0\n",
    "\n",
    "net.eval()\n",
    "with torch.no_grad():\n",
    "    for data in test_loader:\n",
    "        images, labels = data\n",
    "        outputs = net(images)\n",
    "        _, predicted = torch.max(outputs.data, 1)\n",
    "        total += labels.size(0)\n",
    "        correct += (predicted == labels).sum().item()\n",
    "        \n",
    "accuracy = 100 * correct / total\n",
    "print(f'Accuracy: {accuracy}%')"
   ]
  },
  {
   "cell_type": "code",
   "execution_count": 21,
   "metadata": {},
   "outputs": [
    {
     "name": "stdout",
     "output_type": "stream",
     "text": [
      "Image 1: Predicted class - deer\n",
      "Image 2: Predicted class - plane\n"
     ]
    }
   ],
   "source": [
    "new_transform = transforms.Compose([\n",
    "    transforms.Resize((32, 32)),\n",
    "    transforms.ToTensor(),\n",
    "    transforms.Normalize((0.5, 0.5, 0.5), (0.5, 0.5, 0.5))\n",
    "])\n",
    "\n",
    "def load_image(image_path):\n",
    "    image = Image.open(image_path)\n",
    "    image = new_transform(image).unsqueeze(0)\n",
    "    return image\n",
    "\n",
    "image_paths = ['image1.png', 'image2.png']\n",
    "images = [load_image(img_path) for img_path in image_paths]\n",
    "\n",
    "images_tensor = torch.cat(images, dim=0)\n",
    "\n",
    "net.eval()\n",
    "with torch.no_grad():\n",
    "    output = net(images_tensor)\n",
    "    _, predicted = torch.max(output, 1)\n",
    "    for i, pred in enumerate(predicted):\n",
    "        print(f'Image {i+1}: Predicted class - {class_names[pred.item()]}')"
   ]
  }
 ],
 "metadata": {
  "kernelspec": {
   "display_name": "venv",
   "language": "python",
   "name": "python3"
  },
  "language_info": {
   "codemirror_mode": {
    "name": "ipython",
    "version": 3
   },
   "file_extension": ".py",
   "mimetype": "text/x-python",
   "name": "python",
   "nbconvert_exporter": "python",
   "pygments_lexer": "ipython3",
   "version": "3.12.7"
  }
 },
 "nbformat": 4,
 "nbformat_minor": 2
}
